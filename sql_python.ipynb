{
 "cells": [
  {
   "cell_type": "code",
   "execution_count": 14,
   "metadata": {},
   "outputs": [],
   "source": [
    "import mysql.connector as connectior\n",
    "import pandas as pd"
   ]
  },
  {
   "cell_type": "code",
   "execution_count": 34,
   "metadata": {},
   "outputs": [
    {
     "name": "stdout",
     "output_type": "stream",
     "text": [
      "Id =  1\n",
      "first_name =  Babara\n",
      "last_name  =  MacCaffrey\n",
      "birth_date  =  1986-03-28\n",
      "phone  =  781-932-9754\n",
      "address  =  0 Sage Terrace\n",
      "city  =  Waltham\n",
      "state  =  MA\n",
      "points  =  2273 \n",
      "\n",
      "Id =  3\n",
      "first_name =  Freddi\n",
      "last_name  =  Boagey\n",
      "birth_date  =  1985-02-07\n",
      "phone  =  719-724-7869\n",
      "address  =  251 Springs Junction\n",
      "city  =  Colorado Springs\n",
      "state  =  CO\n",
      "points  =  2967 \n",
      "\n",
      "Id =  5\n",
      "first_name =  Clemmie\n",
      "last_name  =  Betchley\n",
      "birth_date  =  1973-11-07\n",
      "phone  =  None\n",
      "address  =  5 Spohn Circle\n",
      "city  =  Arlington\n",
      "state  =  TX\n",
      "points  =  3675 \n",
      "\n",
      "Id =  6\n",
      "first_name =  Elka\n",
      "last_name  =  Twiddell\n",
      "birth_date  =  1991-09-04\n",
      "phone  =  312-480-8498\n",
      "address  =  7 Manley Drive\n",
      "city  =  Chicago\n",
      "state  =  IL\n",
      "points  =  3073 \n",
      "\n",
      "Id =  7\n",
      "first_name =  Ilene\n",
      "last_name  =  Dowson\n",
      "birth_date  =  1964-08-30\n",
      "phone  =  615-641-4759\n",
      "address  =  50 Lillian Crossing\n",
      "city  =  Nashville\n",
      "state  =  TN\n",
      "points  =  1672 \n",
      "\n",
      "Id =  9\n",
      "first_name =  Romola\n",
      "last_name  =  Rumgay\n",
      "birth_date  =  1992-05-23\n",
      "phone  =  559-181-3744\n",
      "address  =  3520 Ohio Trail\n",
      "city  =  Visalia\n",
      "state  =  CA\n",
      "points  =  1486 \n",
      "\n"
     ]
    }
   ],
   "source": [
    "# connector\n",
    "\n",
    "conn = connectior.connect(port= '3306',\n",
    "                         host= '127.0.0.1',\n",
    "                         user = 'root',\n",
    "                         password = '4317')\n",
    "# create an cursor object .cursor() method\n",
    "cursor = conn.cursor()\n",
    "\n",
    "# select database to use\n",
    "cursor.execute('USE store')\n",
    "\n",
    "# extract data from table\n",
    "cursor.execute('SELECT * FROM customers where points > 1000')\n",
    "\n",
    "# fetch all data\n",
    "data = cursor.fetchall()\n",
    "for row in data:\n",
    "        print(\"Id = \", row[0], )\n",
    "        print(\"first_name = \", row[1])\n",
    "        print(\"last_name  = \", row[2])\n",
    "        print(\"birth_date  = \", row[3],)\n",
    "        print(\"phone  = \", row[4],)\n",
    "        print(\"address  = \", row[5])\n",
    "        print(\"city  = \", row[6])\n",
    "        print(\"state  = \", row[7])\n",
    "        print(\"points  = \", row[8], \"\\n\")"
   ]
  },
  {
   "cell_type": "markdown",
   "metadata": {},
   "source": [
    "### Create an table"
   ]
  },
  {
   "cell_type": "code",
   "execution_count": 36,
   "metadata": {},
   "outputs": [
    {
     "name": "stdout",
     "output_type": "stream",
     "text": [
      "Table created successfully!\n"
     ]
    }
   ],
   "source": [
    "# Establish a connection to the database\n",
    "connection = connectior.connect(port= '3306',\n",
    "                         host= '127.0.0.1',\n",
    "                         user = 'root',\n",
    "                         password = '4317')\n",
    "\n",
    "# Create a cursor object to interact with the database\n",
    "cursor = connection.cursor()\n",
    "\n",
    "# select database\n",
    "cursor.execute(\"USE store\")\n",
    "\n",
    "# SQL query to create a new table\n",
    "create_table_query = \"\"\"\n",
    "CREATE TABLE IF NOT EXISTS employees (\n",
    "    id INT AUTO_INCREMENT PRIMARY KEY,\n",
    "    first_name VARCHAR(255),\n",
    "    last_name VARCHAR(255),\n",
    "    department VARCHAR(255)\n",
    ")\n",
    "\"\"\"\n",
    "\n",
    "# Execute the create table query\n",
    "cursor.execute(create_table_query)\n",
    "\n",
    "# Commit the changes to the database\n",
    "connection.commit()\n",
    "\n",
    "# Close the cursor and the connection\n",
    "cursor.close()\n",
    "connection.close()\n",
    "\n",
    "print(\"Table created successfully!\")"
   ]
  },
  {
   "cell_type": "markdown",
   "metadata": {},
   "source": [
    "### Input data into table"
   ]
  },
  {
   "cell_type": "code",
   "execution_count": 16,
   "metadata": {},
   "outputs": [],
   "source": [
    "# Establish a connection to the database\n",
    "connection = connectior.connect(port= '3306',\n",
    "                         host= '127.0.0.1',\n",
    "                         user = 'root',\n",
    "                         password = '4317')\n",
    "\n",
    "# Create a cursor object to interact with the database\n",
    "cursor = connection.cursor()\n",
    "\n",
    "# select database\n",
    "cursor.execute(\"USE store\")\n",
    "\n",
    "# input data\n",
    "s = ('''INSERT INTO \n",
    "                    employees(id,first_name,last_name,department) \n",
    "                    VALUES (%s,%s,%s,%s)''', )\n",
    "\n",
    "df  = [  (2,'Joh','Smih','Saes'),\n",
    "         (3,'Joh','Smih','Saes'),\n",
    "         (4,'Joh','Smih','Saes'),\n",
    "         (5,'Joh','Smih','Saes'),\n",
    "         (6,'Joh','Smih','Saes'),\n",
    "         (7,'Joh','Smih','Saes'),\n",
    "         (8,'Joh','Smih','Saes'),]\n",
    "\n",
    "# execute query\n",
    "cursor.executemany(*s,df)\n",
    "\n",
    "# commit changes\n",
    "connection.commit()\n",
    "\n",
    "# close connection\n",
    "cursor.close()\n",
    "connection.close()\n"
   ]
  },
  {
   "cell_type": "code",
   "execution_count": 4,
   "metadata": {},
   "outputs": [],
   "source": [
    "data= pd.read_csv('E:\\\\Neoron\\\\Programming_Practice\\\\Dataset\\\\Mall_Customers.csv')\n"
   ]
  },
  {
   "cell_type": "markdown",
   "metadata": {},
   "source": [
    "### insert data from csv file "
   ]
  },
  {
   "cell_type": "code",
   "execution_count": 8,
   "metadata": {},
   "outputs": [
    {
     "name": "stdout",
     "output_type": "stream",
     "text": [
      "cursor is created successfully\n",
      "database is created successfully\n",
      "table is created successfully\n",
      "data is inserted successfully\n"
     ]
    }
   ],
   "source": [
    "# create connection to database\n",
    "conn = connectior.connect(port= '3306',\n",
    "                         host= '127.0.0.1',\n",
    "                         user = 'root',\n",
    "                         password = '4317')\n",
    "\n",
    "# create cursor\n",
    "cursor = conn.cursor()\n",
    "print('cursor is created successfully')\n",
    "\n",
    "# create database\n",
    "cursor.execute('CREATE DATABASE IF NOT EXISTS PYTHON_DB')\n",
    "print('database is created successfully')\n",
    "\n",
    "# create table\n",
    "\n",
    "cursor.execute(''' CREATE TABLE IF NOT EXISTS \n",
    "               PYTHON_DB.Mall_Customers(\n",
    "               ID INT NOT NULL AUTO_INCREMENT,\n",
    "               GENDER VARCHAR(255),AGE INT,\n",
    "               ANNUAL_INCOME INT,\n",
    "               SPENDING_SCORE INT,\n",
    "               PRIMARY KEY(ID))''')\n",
    "print('table is created successfully')\n",
    "\n",
    "# insert data into table\n",
    "try:\n",
    "    for i,row in data.iterrows():\n",
    "        cursor.execute('''INSERT INTO PYTHON_DB.Mall_Customers VALUES(%s,%s,%s,%s,%s)''',tuple(row))\n",
    "        conn.commit()\n",
    "    print('data is inserted successfully')\n",
    "\n",
    "except Exception as e:\n",
    "    print('error occured',e)\n",
    "\n"
   ]
  },
  {
   "cell_type": "markdown",
   "metadata": {},
   "source": [
    "### Extract data from sql data table "
   ]
  },
  {
   "cell_type": "code",
   "execution_count": 10,
   "metadata": {},
   "outputs": [
    {
     "name": "stdout",
     "output_type": "stream",
     "text": [
      "cursor is created successfully\n",
      "data is extracted successfully\n"
     ]
    },
    {
     "name": "stderr",
     "output_type": "stream",
     "text": [
      "C:\\Users\\nasir\\AppData\\Local\\Temp\\ipykernel_4896\\1888796412.py:12: UserWarning: pandas only supports SQLAlchemy connectable (engine/connection) or database string URI or sqlite3 DBAPI2 connection. Other DBAPI2 objects are not tested. Please consider using SQLAlchemy.\n",
      "  df = pd.read_sql('SELECT * FROM PYTHON_DB.Mall_Customers', conn)\n"
     ]
    }
   ],
   "source": [
    "# create connection to database\n",
    "conn = connectior.connect(port= '3306',\n",
    "                         host= '127.0.0.1',\n",
    "                         user = 'root',\n",
    "                         password = '4317')\n",
    "\n",
    "# create cursor\n",
    "cursor = conn.cursor()\n",
    "print('cursor is created successfully')\n",
    "\n",
    "# extract data from database table\n",
    "df = pd.read_sql('SELECT * FROM PYTHON_DB.Mall_Customers', conn)\n",
    "print('data is extracted successfully')"
   ]
  },
  {
   "cell_type": "markdown",
   "metadata": {},
   "source": [
    "### Update sql table "
   ]
  },
  {
   "cell_type": "code",
   "execution_count": 13,
   "metadata": {},
   "outputs": [
    {
     "name": "stdout",
     "output_type": "stream",
     "text": [
      "cursor is created successfully\n",
      "table is updated successfully\n"
     ]
    }
   ],
   "source": [
    "# create connection to database\n",
    "conn = connectior.connect(port= '3306',\n",
    "                         host= '127.0.0.1',\n",
    "                         user = 'root',\n",
    "                         password = '4317',\n",
    "                         database = 'PYTHON_DB')\n",
    "\n",
    "# create cursor\n",
    "cursor = conn.cursor()\n",
    "print('cursor is created successfully')\n",
    "\n",
    "\n",
    "# update table \n",
    "cursor.execute('UPDATE Mall_Customers SET ANNUAL_INCOME = ANNUAL_INCOME+100 WHERE ANNUAL_INCOME < 100')\n",
    "conn.commit()\n",
    "print('table is updated successfully')"
   ]
  }
 ],
 "metadata": {
  "kernelspec": {
   "display_name": "Python 3",
   "language": "python",
   "name": "python3"
  },
  "language_info": {
   "codemirror_mode": {
    "name": "ipython",
    "version": 3
   },
   "file_extension": ".py",
   "mimetype": "text/x-python",
   "name": "python",
   "nbconvert_exporter": "python",
   "pygments_lexer": "ipython3",
   "version": "3.10.6"
  },
  "orig_nbformat": 4,
  "vscode": {
   "interpreter": {
    "hash": "0688fda938737e2d5a0e5dcab181b8ad9bfe817b9af13ca473832c5ae105f5f8"
   }
  }
 },
 "nbformat": 4,
 "nbformat_minor": 2
}
